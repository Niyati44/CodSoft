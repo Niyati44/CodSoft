{
  "cells": [
    {
      "cell_type": "markdown",
      "source": [
        "# Importing Libraries"
      ],
      "metadata": {
        "id": "MvUQCiCgmqzm"
      }
    },
    {
      "cell_type": "code",
      "execution_count": 1,
      "metadata": {
        "id": "MjJV04NfSrPU"
      },
      "outputs": [],
      "source": [
        "import pandas as pd\n",
        "import numpy as np\n",
        "import seaborn as sns\n",
        "import matplotlib.pyplot as plt\n",
        "from sklearn.model_selection import train_test_split\n",
        "from sklearn.preprocessing import StandardScaler\n",
        "from sklearn.ensemble import RandomForestClassifier\n",
        "from sklearn.metrics import classification_report, confusion_matrix, roc_auc_score\n",
        "from imblearn.over_sampling import SMOTE\n",
        "from sklearn.linear_model import LogisticRegression\n",
        "from sklearn.pipeline import Pipeline\n",
        "from sklearn.impute import SimpleImputer"
      ]
    },
    {
      "cell_type": "markdown",
      "source": [
        "# Reading the data set"
      ],
      "metadata": {
        "id": "zyu4r7Fymw5a"
      }
    },
    {
      "cell_type": "code",
      "execution_count": 2,
      "metadata": {
        "colab": {
          "base_uri": "https://localhost:8080/",
          "height": 550
        },
        "id": "LQ8b24OmS7N_",
        "outputId": "a7c2109a-bdfa-4cda-906c-f526a5318274"
      },
      "outputs": [
        {
          "output_type": "execute_result",
          "data": {
            "text/plain": [
              "   Unnamed: 0 trans_date_trans_time            cc_num  \\\n",
              "0           0   2019-01-01 00:00:18  2703186189652095   \n",
              "1           1   2019-01-01 00:00:44      630423337322   \n",
              "2           2   2019-01-01 00:00:51    38859492057661   \n",
              "3           3   2019-01-01 00:01:16  3534093764340240   \n",
              "4           4   2019-01-01 00:03:06   375534208663984   \n",
              "\n",
              "                             merchant       category     amt      first  \\\n",
              "0          fraud_Rippin, Kub and Mann       misc_net    4.97   Jennifer   \n",
              "1     fraud_Heller, Gutmann and Zieme    grocery_pos  107.23  Stephanie   \n",
              "2                fraud_Lind-Buckridge  entertainment  220.11     Edward   \n",
              "3  fraud_Kutch, Hermiston and Farrell  gas_transport   45.00     Jeremy   \n",
              "4                 fraud_Keeling-Crist       misc_pos   41.96      Tyler   \n",
              "\n",
              "      last gender                        street  ...      lat      long  \\\n",
              "0    Banks      F                561 Perry Cove  ...  36.0788  -81.1781   \n",
              "1     Gill      F  43039 Riley Greens Suite 393  ...  48.8878 -118.2105   \n",
              "2  Sanchez      M      594 White Dale Suite 530  ...  42.1808 -112.2620   \n",
              "3    White      M   9443 Cynthia Court Apt. 038  ...  46.2306 -112.1138   \n",
              "4   Garcia      M              408 Bradley Rest  ...  38.4207  -79.4629   \n",
              "\n",
              "   city_pop                                job         dob  \\\n",
              "0    3495.0          Psychologist, counselling  1988-03-09   \n",
              "1     149.0  Special educational needs teacher  1978-06-21   \n",
              "2    4154.0        Nature conservation officer  1962-01-19   \n",
              "3    1939.0                    Patent attorney  1967-01-12   \n",
              "4      99.0     Dance movement psychotherapist  1986-03-28   \n",
              "\n",
              "                          trans_num     unix_time  merch_lat  merch_long  \\\n",
              "0  0b242abb623afc578575680df30655b9  1.325376e+09  36.011293  -82.048315   \n",
              "1  1f76529f8574734946361c461b024d99  1.325376e+09  49.159047 -118.186462   \n",
              "2  a1a22d70485983eac12b5b88dad1cf95  1.325376e+09  43.150704 -112.154481   \n",
              "3  6b849c168bdad6f867558c3793159a81  1.325376e+09  47.034331 -112.561071   \n",
              "4  a41d7549acf90789359a9aa5346dcb46  1.325376e+09  38.674999  -78.632459   \n",
              "\n",
              "   is_fraud  \n",
              "0       0.0  \n",
              "1       0.0  \n",
              "2       0.0  \n",
              "3       0.0  \n",
              "4       0.0  \n",
              "\n",
              "[5 rows x 23 columns]"
            ],
            "text/html": [
              "\n",
              "  <div id=\"df-f25a027c-7e63-4d25-ad80-e1855bcad07b\" class=\"colab-df-container\">\n",
              "    <div>\n",
              "<style scoped>\n",
              "    .dataframe tbody tr th:only-of-type {\n",
              "        vertical-align: middle;\n",
              "    }\n",
              "\n",
              "    .dataframe tbody tr th {\n",
              "        vertical-align: top;\n",
              "    }\n",
              "\n",
              "    .dataframe thead th {\n",
              "        text-align: right;\n",
              "    }\n",
              "</style>\n",
              "<table border=\"1\" class=\"dataframe\">\n",
              "  <thead>\n",
              "    <tr style=\"text-align: right;\">\n",
              "      <th></th>\n",
              "      <th>Unnamed: 0</th>\n",
              "      <th>trans_date_trans_time</th>\n",
              "      <th>cc_num</th>\n",
              "      <th>merchant</th>\n",
              "      <th>category</th>\n",
              "      <th>amt</th>\n",
              "      <th>first</th>\n",
              "      <th>last</th>\n",
              "      <th>gender</th>\n",
              "      <th>street</th>\n",
              "      <th>...</th>\n",
              "      <th>lat</th>\n",
              "      <th>long</th>\n",
              "      <th>city_pop</th>\n",
              "      <th>job</th>\n",
              "      <th>dob</th>\n",
              "      <th>trans_num</th>\n",
              "      <th>unix_time</th>\n",
              "      <th>merch_lat</th>\n",
              "      <th>merch_long</th>\n",
              "      <th>is_fraud</th>\n",
              "    </tr>\n",
              "  </thead>\n",
              "  <tbody>\n",
              "    <tr>\n",
              "      <th>0</th>\n",
              "      <td>0</td>\n",
              "      <td>2019-01-01 00:00:18</td>\n",
              "      <td>2703186189652095</td>\n",
              "      <td>fraud_Rippin, Kub and Mann</td>\n",
              "      <td>misc_net</td>\n",
              "      <td>4.97</td>\n",
              "      <td>Jennifer</td>\n",
              "      <td>Banks</td>\n",
              "      <td>F</td>\n",
              "      <td>561 Perry Cove</td>\n",
              "      <td>...</td>\n",
              "      <td>36.0788</td>\n",
              "      <td>-81.1781</td>\n",
              "      <td>3495.0</td>\n",
              "      <td>Psychologist, counselling</td>\n",
              "      <td>1988-03-09</td>\n",
              "      <td>0b242abb623afc578575680df30655b9</td>\n",
              "      <td>1.325376e+09</td>\n",
              "      <td>36.011293</td>\n",
              "      <td>-82.048315</td>\n",
              "      <td>0.0</td>\n",
              "    </tr>\n",
              "    <tr>\n",
              "      <th>1</th>\n",
              "      <td>1</td>\n",
              "      <td>2019-01-01 00:00:44</td>\n",
              "      <td>630423337322</td>\n",
              "      <td>fraud_Heller, Gutmann and Zieme</td>\n",
              "      <td>grocery_pos</td>\n",
              "      <td>107.23</td>\n",
              "      <td>Stephanie</td>\n",
              "      <td>Gill</td>\n",
              "      <td>F</td>\n",
              "      <td>43039 Riley Greens Suite 393</td>\n",
              "      <td>...</td>\n",
              "      <td>48.8878</td>\n",
              "      <td>-118.2105</td>\n",
              "      <td>149.0</td>\n",
              "      <td>Special educational needs teacher</td>\n",
              "      <td>1978-06-21</td>\n",
              "      <td>1f76529f8574734946361c461b024d99</td>\n",
              "      <td>1.325376e+09</td>\n",
              "      <td>49.159047</td>\n",
              "      <td>-118.186462</td>\n",
              "      <td>0.0</td>\n",
              "    </tr>\n",
              "    <tr>\n",
              "      <th>2</th>\n",
              "      <td>2</td>\n",
              "      <td>2019-01-01 00:00:51</td>\n",
              "      <td>38859492057661</td>\n",
              "      <td>fraud_Lind-Buckridge</td>\n",
              "      <td>entertainment</td>\n",
              "      <td>220.11</td>\n",
              "      <td>Edward</td>\n",
              "      <td>Sanchez</td>\n",
              "      <td>M</td>\n",
              "      <td>594 White Dale Suite 530</td>\n",
              "      <td>...</td>\n",
              "      <td>42.1808</td>\n",
              "      <td>-112.2620</td>\n",
              "      <td>4154.0</td>\n",
              "      <td>Nature conservation officer</td>\n",
              "      <td>1962-01-19</td>\n",
              "      <td>a1a22d70485983eac12b5b88dad1cf95</td>\n",
              "      <td>1.325376e+09</td>\n",
              "      <td>43.150704</td>\n",
              "      <td>-112.154481</td>\n",
              "      <td>0.0</td>\n",
              "    </tr>\n",
              "    <tr>\n",
              "      <th>3</th>\n",
              "      <td>3</td>\n",
              "      <td>2019-01-01 00:01:16</td>\n",
              "      <td>3534093764340240</td>\n",
              "      <td>fraud_Kutch, Hermiston and Farrell</td>\n",
              "      <td>gas_transport</td>\n",
              "      <td>45.00</td>\n",
              "      <td>Jeremy</td>\n",
              "      <td>White</td>\n",
              "      <td>M</td>\n",
              "      <td>9443 Cynthia Court Apt. 038</td>\n",
              "      <td>...</td>\n",
              "      <td>46.2306</td>\n",
              "      <td>-112.1138</td>\n",
              "      <td>1939.0</td>\n",
              "      <td>Patent attorney</td>\n",
              "      <td>1967-01-12</td>\n",
              "      <td>6b849c168bdad6f867558c3793159a81</td>\n",
              "      <td>1.325376e+09</td>\n",
              "      <td>47.034331</td>\n",
              "      <td>-112.561071</td>\n",
              "      <td>0.0</td>\n",
              "    </tr>\n",
              "    <tr>\n",
              "      <th>4</th>\n",
              "      <td>4</td>\n",
              "      <td>2019-01-01 00:03:06</td>\n",
              "      <td>375534208663984</td>\n",
              "      <td>fraud_Keeling-Crist</td>\n",
              "      <td>misc_pos</td>\n",
              "      <td>41.96</td>\n",
              "      <td>Tyler</td>\n",
              "      <td>Garcia</td>\n",
              "      <td>M</td>\n",
              "      <td>408 Bradley Rest</td>\n",
              "      <td>...</td>\n",
              "      <td>38.4207</td>\n",
              "      <td>-79.4629</td>\n",
              "      <td>99.0</td>\n",
              "      <td>Dance movement psychotherapist</td>\n",
              "      <td>1986-03-28</td>\n",
              "      <td>a41d7549acf90789359a9aa5346dcb46</td>\n",
              "      <td>1.325376e+09</td>\n",
              "      <td>38.674999</td>\n",
              "      <td>-78.632459</td>\n",
              "      <td>0.0</td>\n",
              "    </tr>\n",
              "  </tbody>\n",
              "</table>\n",
              "<p>5 rows × 23 columns</p>\n",
              "</div>\n",
              "    <div class=\"colab-df-buttons\">\n",
              "\n",
              "  <div class=\"colab-df-container\">\n",
              "    <button class=\"colab-df-convert\" onclick=\"convertToInteractive('df-f25a027c-7e63-4d25-ad80-e1855bcad07b')\"\n",
              "            title=\"Convert this dataframe to an interactive table.\"\n",
              "            style=\"display:none;\">\n",
              "\n",
              "  <svg xmlns=\"http://www.w3.org/2000/svg\" height=\"24px\" viewBox=\"0 -960 960 960\">\n",
              "    <path d=\"M120-120v-720h720v720H120Zm60-500h600v-160H180v160Zm220 220h160v-160H400v160Zm0 220h160v-160H400v160ZM180-400h160v-160H180v160Zm440 0h160v-160H620v160ZM180-180h160v-160H180v160Zm440 0h160v-160H620v160Z\"/>\n",
              "  </svg>\n",
              "    </button>\n",
              "\n",
              "  <style>\n",
              "    .colab-df-container {\n",
              "      display:flex;\n",
              "      gap: 12px;\n",
              "    }\n",
              "\n",
              "    .colab-df-convert {\n",
              "      background-color: #E8F0FE;\n",
              "      border: none;\n",
              "      border-radius: 50%;\n",
              "      cursor: pointer;\n",
              "      display: none;\n",
              "      fill: #1967D2;\n",
              "      height: 32px;\n",
              "      padding: 0 0 0 0;\n",
              "      width: 32px;\n",
              "    }\n",
              "\n",
              "    .colab-df-convert:hover {\n",
              "      background-color: #E2EBFA;\n",
              "      box-shadow: 0px 1px 2px rgba(60, 64, 67, 0.3), 0px 1px 3px 1px rgba(60, 64, 67, 0.15);\n",
              "      fill: #174EA6;\n",
              "    }\n",
              "\n",
              "    .colab-df-buttons div {\n",
              "      margin-bottom: 4px;\n",
              "    }\n",
              "\n",
              "    [theme=dark] .colab-df-convert {\n",
              "      background-color: #3B4455;\n",
              "      fill: #D2E3FC;\n",
              "    }\n",
              "\n",
              "    [theme=dark] .colab-df-convert:hover {\n",
              "      background-color: #434B5C;\n",
              "      box-shadow: 0px 1px 3px 1px rgba(0, 0, 0, 0.15);\n",
              "      filter: drop-shadow(0px 1px 2px rgba(0, 0, 0, 0.3));\n",
              "      fill: #FFFFFF;\n",
              "    }\n",
              "  </style>\n",
              "\n",
              "    <script>\n",
              "      const buttonEl =\n",
              "        document.querySelector('#df-f25a027c-7e63-4d25-ad80-e1855bcad07b button.colab-df-convert');\n",
              "      buttonEl.style.display =\n",
              "        google.colab.kernel.accessAllowed ? 'block' : 'none';\n",
              "\n",
              "      async function convertToInteractive(key) {\n",
              "        const element = document.querySelector('#df-f25a027c-7e63-4d25-ad80-e1855bcad07b');\n",
              "        const dataTable =\n",
              "          await google.colab.kernel.invokeFunction('convertToInteractive',\n",
              "                                                    [key], {});\n",
              "        if (!dataTable) return;\n",
              "\n",
              "        const docLinkHtml = 'Like what you see? Visit the ' +\n",
              "          '<a target=\"_blank\" href=https://colab.research.google.com/notebooks/data_table.ipynb>data table notebook</a>'\n",
              "          + ' to learn more about interactive tables.';\n",
              "        element.innerHTML = '';\n",
              "        dataTable['output_type'] = 'display_data';\n",
              "        await google.colab.output.renderOutput(dataTable, element);\n",
              "        const docLink = document.createElement('div');\n",
              "        docLink.innerHTML = docLinkHtml;\n",
              "        element.appendChild(docLink);\n",
              "      }\n",
              "    </script>\n",
              "  </div>\n",
              "\n",
              "\n",
              "<div id=\"df-b54b7c65-d229-4674-8edd-44eefe59d0d2\">\n",
              "  <button class=\"colab-df-quickchart\" onclick=\"quickchart('df-b54b7c65-d229-4674-8edd-44eefe59d0d2')\"\n",
              "            title=\"Suggest charts\"\n",
              "            style=\"display:none;\">\n",
              "\n",
              "<svg xmlns=\"http://www.w3.org/2000/svg\" height=\"24px\"viewBox=\"0 0 24 24\"\n",
              "     width=\"24px\">\n",
              "    <g>\n",
              "        <path d=\"M19 3H5c-1.1 0-2 .9-2 2v14c0 1.1.9 2 2 2h14c1.1 0 2-.9 2-2V5c0-1.1-.9-2-2-2zM9 17H7v-7h2v7zm4 0h-2V7h2v10zm4 0h-2v-4h2v4z\"/>\n",
              "    </g>\n",
              "</svg>\n",
              "  </button>\n",
              "\n",
              "<style>\n",
              "  .colab-df-quickchart {\n",
              "      --bg-color: #E8F0FE;\n",
              "      --fill-color: #1967D2;\n",
              "      --hover-bg-color: #E2EBFA;\n",
              "      --hover-fill-color: #174EA6;\n",
              "      --disabled-fill-color: #AAA;\n",
              "      --disabled-bg-color: #DDD;\n",
              "  }\n",
              "\n",
              "  [theme=dark] .colab-df-quickchart {\n",
              "      --bg-color: #3B4455;\n",
              "      --fill-color: #D2E3FC;\n",
              "      --hover-bg-color: #434B5C;\n",
              "      --hover-fill-color: #FFFFFF;\n",
              "      --disabled-bg-color: #3B4455;\n",
              "      --disabled-fill-color: #666;\n",
              "  }\n",
              "\n",
              "  .colab-df-quickchart {\n",
              "    background-color: var(--bg-color);\n",
              "    border: none;\n",
              "    border-radius: 50%;\n",
              "    cursor: pointer;\n",
              "    display: none;\n",
              "    fill: var(--fill-color);\n",
              "    height: 32px;\n",
              "    padding: 0;\n",
              "    width: 32px;\n",
              "  }\n",
              "\n",
              "  .colab-df-quickchart:hover {\n",
              "    background-color: var(--hover-bg-color);\n",
              "    box-shadow: 0 1px 2px rgba(60, 64, 67, 0.3), 0 1px 3px 1px rgba(60, 64, 67, 0.15);\n",
              "    fill: var(--button-hover-fill-color);\n",
              "  }\n",
              "\n",
              "  .colab-df-quickchart-complete:disabled,\n",
              "  .colab-df-quickchart-complete:disabled:hover {\n",
              "    background-color: var(--disabled-bg-color);\n",
              "    fill: var(--disabled-fill-color);\n",
              "    box-shadow: none;\n",
              "  }\n",
              "\n",
              "  .colab-df-spinner {\n",
              "    border: 2px solid var(--fill-color);\n",
              "    border-color: transparent;\n",
              "    border-bottom-color: var(--fill-color);\n",
              "    animation:\n",
              "      spin 1s steps(1) infinite;\n",
              "  }\n",
              "\n",
              "  @keyframes spin {\n",
              "    0% {\n",
              "      border-color: transparent;\n",
              "      border-bottom-color: var(--fill-color);\n",
              "      border-left-color: var(--fill-color);\n",
              "    }\n",
              "    20% {\n",
              "      border-color: transparent;\n",
              "      border-left-color: var(--fill-color);\n",
              "      border-top-color: var(--fill-color);\n",
              "    }\n",
              "    30% {\n",
              "      border-color: transparent;\n",
              "      border-left-color: var(--fill-color);\n",
              "      border-top-color: var(--fill-color);\n",
              "      border-right-color: var(--fill-color);\n",
              "    }\n",
              "    40% {\n",
              "      border-color: transparent;\n",
              "      border-right-color: var(--fill-color);\n",
              "      border-top-color: var(--fill-color);\n",
              "    }\n",
              "    60% {\n",
              "      border-color: transparent;\n",
              "      border-right-color: var(--fill-color);\n",
              "    }\n",
              "    80% {\n",
              "      border-color: transparent;\n",
              "      border-right-color: var(--fill-color);\n",
              "      border-bottom-color: var(--fill-color);\n",
              "    }\n",
              "    90% {\n",
              "      border-color: transparent;\n",
              "      border-bottom-color: var(--fill-color);\n",
              "    }\n",
              "  }\n",
              "</style>\n",
              "\n",
              "  <script>\n",
              "    async function quickchart(key) {\n",
              "      const quickchartButtonEl =\n",
              "        document.querySelector('#' + key + ' button');\n",
              "      quickchartButtonEl.disabled = true;  // To prevent multiple clicks.\n",
              "      quickchartButtonEl.classList.add('colab-df-spinner');\n",
              "      try {\n",
              "        const charts = await google.colab.kernel.invokeFunction(\n",
              "            'suggestCharts', [key], {});\n",
              "      } catch (error) {\n",
              "        console.error('Error during call to suggestCharts:', error);\n",
              "      }\n",
              "      quickchartButtonEl.classList.remove('colab-df-spinner');\n",
              "      quickchartButtonEl.classList.add('colab-df-quickchart-complete');\n",
              "    }\n",
              "    (() => {\n",
              "      let quickchartButtonEl =\n",
              "        document.querySelector('#df-b54b7c65-d229-4674-8edd-44eefe59d0d2 button');\n",
              "      quickchartButtonEl.style.display =\n",
              "        google.colab.kernel.accessAllowed ? 'block' : 'none';\n",
              "    })();\n",
              "  </script>\n",
              "</div>\n",
              "\n",
              "    </div>\n",
              "  </div>\n"
            ],
            "application/vnd.google.colaboratory.intrinsic+json": {
              "type": "dataframe",
              "variable_name": "df"
            }
          },
          "metadata": {},
          "execution_count": 2
        }
      ],
      "source": [
        "df = pd.read_csv('fraudTrain.csv')\n",
        "df.head()"
      ]
    },
    {
      "cell_type": "code",
      "execution_count": null,
      "metadata": {
        "colab": {
          "base_uri": "https://localhost:8080/"
        },
        "id": "0O4WF1x7cGR3",
        "outputId": "e1043411-f66a-4d1c-f751-7005fcc29b43"
      },
      "outputs": [
        {
          "name": "stdout",
          "output_type": "stream",
          "text": [
            "<class 'pandas.core.frame.DataFrame'>\n",
            "RangeIndex: 62256 entries, 0 to 62255\n",
            "Data columns (total 23 columns):\n",
            " #   Column                 Non-Null Count  Dtype  \n",
            "---  ------                 --------------  -----  \n",
            " 0   Unnamed: 0             62256 non-null  int64  \n",
            " 1   trans_date_trans_time  62256 non-null  object \n",
            " 2   cc_num                 62256 non-null  int64  \n",
            " 3   merchant               62256 non-null  object \n",
            " 4   category               62256 non-null  object \n",
            " 5   amt                    62256 non-null  float64\n",
            " 6   first                  62256 non-null  object \n",
            " 7   last                   62256 non-null  object \n",
            " 8   gender                 62256 non-null  object \n",
            " 9   street                 62256 non-null  object \n",
            " 10  city                   62256 non-null  object \n",
            " 11  state                  62256 non-null  object \n",
            " 12  zip                    62256 non-null  int64  \n",
            " 13  lat                    62256 non-null  float64\n",
            " 14  long                   62256 non-null  float64\n",
            " 15  city_pop               62256 non-null  int64  \n",
            " 16  job                    62256 non-null  object \n",
            " 17  dob                    62256 non-null  object \n",
            " 18  trans_num              62256 non-null  object \n",
            " 19  unix_time              62255 non-null  float64\n",
            " 20  merch_lat              62255 non-null  float64\n",
            " 21  merch_long             62255 non-null  float64\n",
            " 22  is_fraud               62255 non-null  float64\n",
            "dtypes: float64(7), int64(4), object(12)\n",
            "memory usage: 10.9+ MB\n"
          ]
        }
      ],
      "source": [
        "df.info()"
      ]
    },
    {
      "cell_type": "code",
      "execution_count": 3,
      "metadata": {
        "id": "lS4_KYywpL68"
      },
      "outputs": [],
      "source": [
        "df.drop_duplicates(inplace=True)\n",
        "df.dropna(inplace=True)\n"
      ]
    },
    {
      "cell_type": "code",
      "execution_count": null,
      "metadata": {
        "colab": {
          "base_uri": "https://localhost:8080/"
        },
        "id": "w_JkGvhbmR7h",
        "outputId": "915f7af0-a7ce-440f-a338-9aeb52037a1e"
      },
      "outputs": [
        {
          "data": {
            "text/plain": [
              "is_fraud\n",
              "0.0    539409\n",
              "1.0      3210\n",
              "Name: count, dtype: int64"
            ]
          },
          "execution_count": 5,
          "metadata": {},
          "output_type": "execute_result"
        }
      ],
      "source": [
        "df['is_fraud'].value_counts()"
      ]
    },
    {
      "cell_type": "code",
      "execution_count": null,
      "metadata": {
        "colab": {
          "base_uri": "https://localhost:8080/",
          "height": 671
        },
        "id": "B-0iLiUBpOlU",
        "outputId": "66fbe022-eb5d-4027-b673-fc1ef6a7e22a"
      },
      "outputs": [
        {
          "name": "stderr",
          "output_type": "stream",
          "text": [
            "<ipython-input-22-d09ca3df07e1>:2: FutureWarning: \n",
            "\n",
            "Passing `palette` without assigning `hue` is deprecated and will be removed in v0.14.0. Assign the `x` variable to `hue` and set `legend=False` for the same effect.\n",
            "\n",
            "  sns.countplot(data=df, x='is_fraud', palette='viridis')\n"
          ]
        },
        {
          "data": {
            "image/png": "[encoded data removed]",
            "text/plain": [
              "<Figure size 800x600 with 1 Axes>"
            ]
          },
          "metadata": {},
          "output_type": "display_data"
        }
      ],
      "source": [
        "plt.figure(figsize=(8, 6))\n",
        "sns.countplot(data=df, x='is_fraud', palette='viridis')\n",
        "plt.title('Count of Fraudulent vs Non-Fraudulent Transactions')\n",
        "plt.xlabel('Is Fraud')\n",
        "plt.ylabel('Count')\n",
        "plt.xticks(ticks=[0, 1], labels=['Non-Fraudulent', 'Fraudulent'])\n",
        "plt.show()"
      ]
    },
    {
      "cell_type": "markdown",
      "source": [
        "We can notice that the data is highly imbalanced."
      ],
      "metadata": {
        "id": "BupCI8HDm6b9"
      }
    },
    {
      "cell_type": "code",
      "execution_count": 4,
      "metadata": {
        "colab": {
          "base_uri": "https://localhost:8080/"
        },
        "id": "qDSHnHKyhzRZ",
        "outputId": "2f083343-d997-4991-fe8c-3dcfc7dafdf4"
      },
      "outputs": [
        {
          "output_type": "execute_result",
          "data": {
            "text/plain": [
              "526.3368348623853"
            ]
          },
          "metadata": {},
          "execution_count": 4
        }
      ],
      "source": [
        "df[df['is_fraud'] == 1]['amt'].mean()\n"
      ]
    },
    {
      "cell_type": "code",
      "execution_count": 5,
      "metadata": {
        "colab": {
          "base_uri": "https://localhost:8080/"
        },
        "id": "VB9xPzBKifMA",
        "outputId": "50db29f4-21cb-4571-fc4b-158f8b7d1e8d"
      },
      "outputs": [
        {
          "output_type": "execute_result",
          "data": {
            "text/plain": [
              "67.61534430476782"
            ]
          },
          "metadata": {},
          "execution_count": 5
        }
      ],
      "source": [
        "df[df['is_fraud'] == 0]['amt'].mean()"
      ]
    },
    {
      "cell_type": "markdown",
      "source": [
        "Preprocessing"
      ],
      "metadata": {
        "id": "cRDPtGefm2io"
      }
    },
    {
      "cell_type": "code",
      "source": [
        "# Convert 'trans_date_trans_time' to datetime\n",
        "df['trans_date_trans_time'] = pd.to_datetime(df['trans_date_trans_time'])\n",
        "\n",
        "# Extract additional features from 'trans_date_trans_time'\n",
        "df['hour'] = df['trans_date_trans_time'].dt.hour\n",
        "df['day'] = df['trans_date_trans_time'].dt.day\n",
        "df['month'] = df['trans_date_trans_time'].dt.month\n",
        "df['year'] = df['trans_date_trans_time'].dt.year\n",
        "\n",
        "# Select features\n",
        "features = ['amt', 'hour', 'day', 'month', 'year', 'lat', 'long', 'city_pop', 'merch_lat', 'merch_long']\n",
        "X = df[features]\n",
        "y = df['is_fraud']"
      ],
      "metadata": {
        "id": "qX0ARhNhl_Ux"
      },
      "execution_count": 6,
      "outputs": []
    },
    {
      "cell_type": "code",
      "source": [
        "# Split the data\n",
        "X_train, X_test, y_train, y_test = train_test_split(X, y, test_size=0.2, random_state=42)\n",
        "\n",
        "# Standardize features\n",
        "scaler = StandardScaler()\n",
        "X_train = scaler.fit_transform(X_train)\n",
        "X_test = scaler.transform(X_test)"
      ],
      "metadata": {
        "id": "R6L9KU5emE_C"
      },
      "execution_count": 7,
      "outputs": []
    },
    {
      "cell_type": "markdown",
      "source": [
        "Used SMOTE to treat highly imbalanced data"
      ],
      "metadata": {
        "id": "6OtTOH5znBu4"
      }
    },
    {
      "cell_type": "code",
      "source": [
        "# Apply SMOTE to the training data\n",
        "smote = SMOTE(random_state=42)\n",
        "X_train_smote, y_train_smote = smote.fit_resample(X_train, y_train)"
      ],
      "metadata": {
        "id": "ulze0Isemh65"
      },
      "execution_count": null,
      "outputs": []
    },
    {
      "cell_type": "code",
      "execution_count": null,
      "metadata": {
        "colab": {
          "background_save": true
        },
        "id": "_bysfuVCkmAS",
        "outputId": "c5614b64-c04c-4172-d319-213f51a20a43"
      },
      "outputs": [
        {
          "name": "stdout",
          "output_type": "stream",
          "text": [
            "Train Set Evaluation:\n",
            "              precision    recall  f1-score   support\n",
            "\n",
            "           0       1.00      1.00      1.00   1031354\n",
            "           1       1.00      1.00      1.00      5986\n",
            "\n",
            "    accuracy                           1.00   1037340\n",
            "   macro avg       1.00      1.00      1.00   1037340\n",
            "weighted avg       1.00      1.00      1.00   1037340\n",
            "\n",
            "Confusion Matrix:\n",
            "[[1031354       0]\n",
            " [      0    5986]]\n",
            "Test Set Evaluation:\n",
            "              precision    recall  f1-score   support\n",
            "\n",
            "           0       1.00      1.00      1.00    257815\n",
            "           1       0.63      0.64      0.64      1520\n",
            "\n",
            "    accuracy                           1.00    259335\n",
            "   macro avg       0.81      0.82      0.82    259335\n",
            "weighted avg       1.00      1.00      1.00    259335\n",
            "\n",
            "Confusion Matrix:\n",
            "[[257242    573]\n",
            " [   544    976]]\n",
            "Test AUC-ROC: 0.9796\n"
          ]
        }
      ],
      "source": [
        "# Train a Random Forest classifier\n",
        "rf = RandomForestClassifier(random_state=42)\n",
        "rf.fit(X_train_smote, y_train_smote)\n",
        "\n",
        "# Make predictions\n",
        "y_pred_train = rf.predict(X_train)\n",
        "y_pred_test = rf.predict(X_test)\n",
        "\n",
        "# Evaluate the model\n",
        "print(\"Train Set Evaluation:\")\n",
        "print(classification_report(y_train, y_pred_train))\n",
        "print(\"Test Set Evaluation:\")\n",
        "print(classification_report(y_test, y_pred_test))\n",
        "\n",
        "# Calculate AUC-ROC for the test data\n",
        "test_roc_auc = roc_auc_score(y_test, rf.predict_proba(X_test)[:, 1])\n",
        "print(f\"Test AUC-ROC: {test_roc_auc:.4f}\")\n"
      ]
    },
    {
      "cell_type": "markdown",
      "source": [
        "Result with SMOTE sampling is good."
      ],
      "metadata": {
        "id": "-5JJuTu5nKDJ"
      }
    },
    {
      "cell_type": "code",
      "execution_count": null,
      "metadata": {
        "colab": {
          "base_uri": "https://localhost:8080/"
        },
        "id": "htKDD52qpkll",
        "outputId": "382e2e77-c6a5-481d-a3db-cb68c24ae2d9"
      },
      "outputs": [
        {
          "data": {
            "text/plain": [
              "is_fraud\n",
              "0.0    973092\n",
              "1.0      5700\n",
              "Name: count, dtype: int64"
            ]
          },
          "execution_count": 15,
          "metadata": {},
          "output_type": "execute_result"
        }
      ],
      "source": [
        "y_train.value_counts()"
      ]
    },
    {
      "cell_type": "code",
      "execution_count": null,
      "metadata": {
        "colab": {
          "base_uri": "https://localhost:8080/"
        },
        "id": "S9Tl3w1Xpr-H",
        "outputId": "3ba3e5d3-b65a-43e2-95b9-a35850d684d7"
      },
      "outputs": [
        {
          "data": {
            "text/plain": [
              "is_fraud\n",
              "0.0    243298\n",
              "1.0      1400\n",
              "Name: count, dtype: int64"
            ]
          },
          "execution_count": 16,
          "metadata": {},
          "output_type": "execute_result"
        }
      ],
      "source": [
        "y_test.value_counts()"
      ]
    },
    {
      "cell_type": "markdown",
      "source": [
        "Other possible Models without sampling"
      ],
      "metadata": {
        "id": "FeOjKiBpngDW"
      }
    },
    {
      "cell_type": "code",
      "execution_count": 8,
      "metadata": {
        "colab": {
          "base_uri": "https://localhost:8080/"
        },
        "id": "2DGTulIxuzR4",
        "outputId": "518a4293-f5e0-49e2-c8c4-4d2aa7990b14"
      },
      "outputs": [
        {
          "output_type": "stream",
          "name": "stdout",
          "text": [
            "Training Set Evaluation:\n",
            "              precision    recall  f1-score   support\n",
            "\n",
            "         0.0       1.00      0.95      0.97    659537\n",
            "         1.0       0.08      0.74      0.15      3855\n",
            "\n",
            "    accuracy                           0.95    663392\n",
            "   macro avg       0.54      0.85      0.56    663392\n",
            "weighted avg       0.99      0.95      0.97    663392\n",
            "\n",
            "Test Set Evaluation:\n",
            "              precision    recall  f1-score   support\n",
            "\n",
            "         0.0       1.00      0.95      0.97    164907\n",
            "         1.0       0.08      0.74      0.14       941\n",
            "\n",
            "    accuracy                           0.95    165848\n",
            "   macro avg       0.54      0.85      0.56    165848\n",
            "weighted avg       0.99      0.95      0.97    165848\n",
            "\n",
            "Training AUC-ROC: 0.8456\n",
            "Test AUC-ROC: 0.8501\n"
          ]
        }
      ],
      "source": [
        "# Train a Logistric Regression model with balanced class weights\n",
        "lr = LogisticRegression(class_weight='balanced', random_state=42)\n",
        "lr.fit(X_train, y_train)\n",
        "\n",
        "# Make predictions\n",
        "y_pred_train = lr.predict(X_train)\n",
        "y_pred_test = lr.predict(X_test)\n",
        "\n",
        "# Evaluate the model\n",
        "print(\"Training Set Evaluation:\")\n",
        "print(classification_report(y_train, y_pred_train))\n",
        "\n",
        "print(\"Test Set Evaluation:\")\n",
        "print(classification_report(y_test, y_pred_test))\n",
        "\n",
        "# Calculate AUC-ROC\n",
        "train_roc_auc = roc_auc_score(y_train, lr.predict_proba(X_train)[:, 1])\n",
        "test_roc_auc = roc_auc_score(y_test, lr.predict_proba(X_test)[:, 1])\n",
        "\n",
        "print(f\"Training AUC-ROC: {train_roc_auc:.4f}\")\n",
        "print(f\"Test AUC-ROC: {test_roc_auc:.4f}\")"
      ]
    },
    {
      "cell_type": "markdown",
      "source": [
        "LR gives very low accuracy to detect fraud."
      ],
      "metadata": {
        "id": "xfaQdiH-nnQF"
      }
    },
    {
      "cell_type": "code",
      "execution_count": 9,
      "metadata": {
        "colab": {
          "base_uri": "https://localhost:8080/"
        },
        "id": "wtyoZklRvRH4",
        "outputId": "571e3497-59b5-4f29-e136-a1d1806fc1af"
      },
      "outputs": [
        {
          "output_type": "stream",
          "name": "stdout",
          "text": [
            "Training Set Evaluation:\n",
            "              precision    recall  f1-score   support\n",
            "\n",
            "         0.0       1.00      1.00      1.00    659537\n",
            "         1.0       1.00      1.00      1.00      3855\n",
            "\n",
            "    accuracy                           1.00    663392\n",
            "   macro avg       1.00      1.00      1.00    663392\n",
            "weighted avg       1.00      1.00      1.00    663392\n",
            "\n",
            "Test Set Evaluation:\n",
            "              precision    recall  f1-score   support\n",
            "\n",
            "         0.0       1.00      1.00      1.00    164907\n",
            "         1.0       0.49      0.53      0.51       941\n",
            "\n",
            "    accuracy                           0.99    165848\n",
            "   macro avg       0.74      0.76      0.75    165848\n",
            "weighted avg       0.99      0.99      0.99    165848\n",
            "\n",
            "Training AUC-ROC: 1.0000\n",
            "Test AUC-ROC: 0.7630\n"
          ]
        }
      ],
      "source": [
        "from sklearn.tree import DecisionTreeClassifier\n",
        "\n",
        "\n",
        "# Train a Decision Tree model with balanced class weights\n",
        "dt = DecisionTreeClassifier(random_state=42)\n",
        "dt.fit(X_train, y_train)\n",
        "\n",
        "# Make predictions\n",
        "y_pred_train = dt.predict(X_train)\n",
        "y_pred_test = dt.predict(X_test)\n",
        "\n",
        "# Evaluate the model\n",
        "print(\"Training Set Evaluation:\")\n",
        "print(classification_report(y_train, y_pred_train))\n",
        "\n",
        "print(\"Test Set Evaluation:\")\n",
        "print(classification_report(y_test, y_pred_test))\n",
        "\n",
        "# Calculate AUC-ROC\n",
        "train_roc_auc = roc_auc_score(y_train, dt.predict_proba(X_train)[:, 1])\n",
        "test_roc_auc = roc_auc_score(y_test, dt.predict_proba(X_test)[:, 1])\n",
        "\n",
        "print(f\"Training AUC-ROC: {train_roc_auc:.4f}\")\n",
        "print(f\"Test AUC-ROC: {test_roc_auc:.4f}\")"
      ]
    },
    {
      "cell_type": "code",
      "execution_count": 10,
      "metadata": {
        "colab": {
          "base_uri": "https://localhost:8080/"
        },
        "id": "7taAtFcrCEq_",
        "outputId": "d7b7191e-fb1b-463b-d8f0-db52cf2784ce"
      },
      "outputs": [
        {
          "output_type": "stream",
          "name": "stdout",
          "text": [
            "Training Set Evaluation:\n",
            "              precision    recall  f1-score   support\n",
            "\n",
            "         0.0       1.00      1.00      1.00    659537\n",
            "         1.0       1.00      1.00      1.00      3855\n",
            "\n",
            "    accuracy                           1.00    663392\n",
            "   macro avg       1.00      1.00      1.00    663392\n",
            "weighted avg       1.00      1.00      1.00    663392\n",
            "\n",
            "Test Set Evaluation:\n",
            "              precision    recall  f1-score   support\n",
            "\n",
            "         0.0       1.00      1.00      1.00    164907\n",
            "         1.0       0.89      0.50      0.64       941\n",
            "\n",
            "    accuracy                           1.00    165848\n",
            "   macro avg       0.94      0.75      0.82    165848\n",
            "weighted avg       1.00      1.00      1.00    165848\n",
            "\n",
            "Training AUC-ROC: 1.0000\n",
            "Test AUC-ROC: 0.9594\n"
          ]
        }
      ],
      "source": [
        "# Train a Random Forest model with balanced class weights\n",
        "rf = RandomForestClassifier(class_weight='balanced', random_state=42)\n",
        "rf.fit(X_train, y_train)\n",
        "\n",
        "# Make predictions\n",
        "y_pred_train = rf.predict(X_train)\n",
        "y_pred_test = rf.predict(X_test)\n",
        "\n",
        "# Evaluate the model\n",
        "print(\"Training Set Evaluation:\")\n",
        "print(classification_report(y_train, y_pred_train))\n",
        "\n",
        "print(\"Test Set Evaluation:\")\n",
        "print(classification_report(y_test, y_pred_test))\n",
        "\n",
        "# Calculate AUC-ROC\n",
        "train_roc_auc = roc_auc_score(y_train, rf.predict_proba(X_train)[:, 1])\n",
        "test_roc_auc = roc_auc_score(y_test, rf.predict_proba(X_test)[:, 1])\n",
        "\n",
        "print(f\"Training AUC-ROC: {train_roc_auc:.4f}\")\n",
        "print(f\"Test AUC-ROC: {test_roc_auc:.4f}\")"
      ]
    },
    {
      "cell_type": "markdown",
      "source": [
        "Random Forest gives the better accuracy comparatively."
      ],
      "metadata": {
        "id": "Zs2ZKQkFn6Bk"
      }
    },
    {
      "cell_type": "code",
      "source": [
        "df_test = pd.read_csv('fraudTest.csv')"
      ],
      "metadata": {
        "id": "hrGD82wIx7Jb"
      },
      "execution_count": 11,
      "outputs": []
    },
    {
      "cell_type": "code",
      "source": [
        "df_test.drop_duplicates(inplace=True)\n",
        "df_test.dropna(inplace=True)\n"
      ],
      "metadata": {
        "id": "faakCCXe0qS2"
      },
      "execution_count": 17,
      "outputs": []
    },
    {
      "cell_type": "code",
      "source": [
        "df_test['trans_date_trans_time'] = pd.to_datetime(df_test['trans_date_trans_time'])\n",
        "\n",
        "# Extract additional features from 'trans_date_trans_time'\n",
        "df_test['hour'] = df_test['trans_date_trans_time'].dt.hour\n",
        "df_test['day'] = df_test['trans_date_trans_time'].dt.day\n",
        "df_test['month'] = df_test['trans_date_trans_time'].dt.month\n",
        "df_test['year'] = df_test['trans_date_trans_time'].dt.year\n",
        "\n",
        "# Select features\n",
        "features = ['amt', 'hour', 'day', 'month', 'year', 'lat', 'long', 'city_pop', 'merch_lat', 'merch_long']"
      ],
      "metadata": {
        "id": "qt_1zn38ycU3"
      },
      "execution_count": 18,
      "outputs": []
    },
    {
      "cell_type": "code",
      "source": [
        "X_train = df[features]\n",
        "y_train = df['is_fraud']\n",
        "X_test = df_test[features]\n",
        "y_test = df_test['is_fraud']\n",
        "\n",
        "# Standardize features\n",
        "scaler = StandardScaler()\n",
        "X_train = scaler.fit_transform(X_train)\n",
        "X_test = scaler.transform(X_test)"
      ],
      "metadata": {
        "id": "rbGZHAiPyU7B"
      },
      "execution_count": 19,
      "outputs": []
    },
    {
      "cell_type": "markdown",
      "source": [
        "Apply the model on test dataset"
      ],
      "metadata": {
        "id": "356dKKpH3VQC"
      }
    },
    {
      "cell_type": "code",
      "source": [
        "\n",
        "# Train a Random Forest model with balanced class weights\n",
        "rf = RandomForestClassifier(class_weight='balanced', random_state=42)\n",
        "rf.fit(X_train, y_train)\n",
        "\n",
        "# Make predictions\n",
        "y_pred_train = rf.predict(X_train)\n",
        "y_pred_test = rf.predict(X_test)\n",
        "\n",
        "# Evaluate the model\n",
        "print(\"Training Set Evaluation:\")\n",
        "print(classification_report(y_train, y_pred_train))\n",
        "\n",
        "print(\"Test Set Evaluation:\")\n",
        "print(classification_report(y_test, y_pred_test))\n",
        "\n",
        "# Calculate AUC-ROC\n",
        "train_roc_auc = roc_auc_score(y_train, rf.predict_proba(X_train)[:, 1])\n",
        "test_roc_auc = roc_auc_score(y_test, rf.predict_proba(X_test)[:, 1])\n",
        "\n",
        "print(f\"Training AUC-ROC: {train_roc_auc:.4f}\")\n",
        "print(f\"Test AUC-ROC: {test_roc_auc:.4f}\")"
      ],
      "metadata": {
        "colab": {
          "base_uri": "https://localhost:8080/"
        },
        "id": "6tyFAbjxy06V",
        "outputId": "514d520a-50fa-4867-ec75-5b0269e6483e"
      },
      "execution_count": 20,
      "outputs": [
        {
          "output_type": "stream",
          "name": "stdout",
          "text": [
            "Training Set Evaluation:\n",
            "              precision    recall  f1-score   support\n",
            "\n",
            "         0.0       1.00      1.00      1.00    824444\n",
            "         1.0       1.00      1.00      1.00      4796\n",
            "\n",
            "    accuracy                           1.00    829240\n",
            "   macro avg       1.00      1.00      1.00    829240\n",
            "weighted avg       1.00      1.00      1.00    829240\n",
            "\n",
            "Test Set Evaluation:\n",
            "              precision    recall  f1-score   support\n",
            "\n",
            "         0.0       1.00      1.00      1.00     81353\n",
            "         1.0       0.78      0.25      0.38       306\n",
            "\n",
            "    accuracy                           1.00     81659\n",
            "   macro avg       0.89      0.62      0.69     81659\n",
            "weighted avg       1.00      1.00      1.00     81659\n",
            "\n",
            "Training AUC-ROC: 1.0000\n",
            "Test AUC-ROC: 0.9004\n"
          ]
        }
      ]
    }
  ],
  "metadata": {
    "colab": {
      "provenance": []
    },
    "kernelspec": {
      "display_name": "Python 3",
      "name": "python3"
    },
    "language_info": {
      "name": "python"
    }
  },
  "nbformat": 4,
  "nbformat_minor": 0
}